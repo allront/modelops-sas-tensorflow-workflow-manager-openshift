{
 "cells": [
  {
   "cell_type": "markdown",
   "metadata": {},
   "source": [
    "# Credit Scoring Business Application"
   ]
  },
  {
   "cell_type": "markdown",
   "metadata": {},
   "source": [
    "## Overview"
   ]
  },
  {
   "cell_type": "markdown",
   "metadata": {},
   "source": [
    "## Objective\n",
    "\n",
    "This notebook provides an example of **how to registry a Tensoflow model on SAS Model Manager using SASCTL library**.\n",
    "\n",
    "The goal is manage the e2e with the model deployment on RedHat OpenShift"
   ]
  },
  {
   "cell_type": "markdown",
   "metadata": {},
   "source": [
    "## Assumption\n",
    "\n",
    "We can use and sasctl functionaliy**."
   ]
  },
  {
   "cell_type": "markdown",
   "metadata": {},
   "source": [
    "# 0. Import and Setup"
   ]
  },
  {
   "cell_type": "markdown",
   "metadata": {},
   "source": [
    "## Libraries"
   ]
  },
  {
   "cell_type": "code",
   "execution_count": 1,
   "metadata": {},
   "outputs": [],
   "source": [
    "# General\n",
    "import os\n",
    "import random\n",
    "import shutil\n",
    "import subprocess\n",
    "import getpass\n",
    "import yaml\n",
    "import pprint\n",
    "import zipfile\n",
    "import uuid\n",
    "\n",
    "# Data\n",
    "import pandas as pd\n",
    "\n",
    "# SAS Model Manager\n",
    "import sasctl\n",
    "from sasctl import Session\n",
    "from sasctl.services import model_repository, model_management\n",
    "import sasctl.pzmm as pzmm\n",
    "\n",
    "#Settings\n",
    "import warnings\n",
    "warnings.filterwarnings('ignore')"
   ]
  },
  {
   "cell_type": "markdown",
   "metadata": {},
   "source": [
    "## Define Helpers"
   ]
  },
  {
   "cell_type": "code",
   "execution_count": 2,
   "metadata": {},
   "outputs": [],
   "source": [
    "def read_yaml(filepath):\n",
    "    '''\n",
    "    Given file path, Read yaml file \n",
    "    :param filepath:\n",
    "    :return: conn_dict\n",
    "    '''\n",
    "    with open(filepath) as file:\n",
    "        conn_dict = yaml.load(file, Loader=yaml.FullLoader)\n",
    "    return conn_dict\n",
    "\n",
    "def write_requirements(folder, filename):\n",
    "    '''\n",
    "    Given a folder and the filename, \n",
    "    create the requirements file.\n",
    "    :param folder: \n",
    "    :param filename: \n",
    "    :return: \n",
    "    '''\n",
    "    reqfile_path = os.path.join(folder, filename)\n",
    "    with open(reqfile_path, \"w\") as f:\n",
    "        sterr = subprocess.call([\"pip\", \"freeze\"], stdout=f, stderr=-1)\n",
    "    if sterr==0:\n",
    "        print(\"Requirements file created under \" , reqfile_path)\n",
    "    else:\n",
    "        print(\"pip freeze command fails!\")\n",
    "\n",
    "def get_output_variables(names, labels, eventprob):\n",
    "    '''\n",
    "    Given variable names, labels and event probability, \n",
    "    it creates dataframes for pzmm metadata generation\n",
    "    :param names: \n",
    "    :param labels: \n",
    "    :param eventprob: \n",
    "    :return: outputVar\n",
    "    '''\n",
    "    outputVar = pd.DataFrame(columns=names)\n",
    "    outputVar[names[0]] = [random.random(), random.random()]\n",
    "    outputVar[names[1]] = [random.random(), random.random()]\n",
    "    outputVar[names[2]] = labels\n",
    "    outputVar[names[3]] = eventprob\n",
    "    return outputVar\n",
    "\n",
    "def zip_folder(folder_to_zip_path, rmtree=False):\n",
    "    '''\n",
    "    Given the folder to zip path,\n",
    "    create an archive\n",
    "    :param folder_to_zip_path: \n",
    "    :param rmtree: \n",
    "    :return: zipath\n",
    "    '''\n",
    "    path_sep = '/'\n",
    "    root_dir = path_sep.join(folder_to_zip_path.split('/')[:-1])\n",
    "    base_dir = folder_to_zip_path.split('/')[-1]\n",
    "    zipath = shutil.make_archive(\n",
    "        folder_to_zip_path,         # folder to zip\n",
    "        'zip',                      # the archive format - or tar, bztar, gztar \n",
    "        root_dir=root_dir,          # folder to zip root\n",
    "        base_dir=base_dir)          # folder to zip name\n",
    "    if rmtree:\n",
    "        shutil.rmtree(folder_to_zip_path) # remove .zip folder\n",
    "    return zipath\n",
    "    \n",
    "def run_model_tracking (project, model):\n",
    "    '''\n",
    "    Given project and model names, \n",
    "    create a project and register the model in SAS Model manager\n",
    "    :param project: \n",
    "    :param model: \n",
    "    :return: None\n",
    "    '''\n",
    "    \n",
    "    with Session(hostname=SERVER, username=USER, password=PASSWORD, verify_ssl=False):\n",
    "        #id = uuid.uuid4()\n",
    "        #uuid_project = project + '_' + str(id)[:8]\n",
    "\n",
    "        model_repository.create_project(project=project,\n",
    "                                        repository='Public',\n",
    "                                        function='classification'\n",
    "                                        )\n",
    "\n",
    "        zipfile = open(ZIP_CHAMPION_FOLDER, 'rb')\n",
    "\n",
    "        model_repository.import_model_from_zip(model,\n",
    "                                               project,\n",
    "                                               file=zipfile\n",
    "                                               )\n",
    "        zipfile.close()\n",
    "        \n",
    "    return 0"
   ]
  },
  {
   "cell_type": "markdown",
   "metadata": {},
   "source": [
    "## Setup Variables"
   ]
  },
  {
   "cell_type": "code",
   "execution_count": 3,
   "metadata": {},
   "outputs": [],
   "source": [
    "#Base\n",
    "BASE_DIR_PATH = os.getcwd()\n",
    "DATA_DIR_PATH = os.path.join(BASE_DIR_PATH, '../data')\n",
    "\n",
    "# Data directories paths\n",
    "TRAIN_DIR_PATH = os.path.join(DATA_DIR_PATH, 'train')\n",
    "\n",
    "# Data file paths\n",
    "TRAIN_DATA_PATH = os.path.join(TRAIN_DIR_PATH, 'train.csv')\n",
    "\n",
    "# Models directory\n",
    "MODELS_DIR = os.path.join(BASE_DIR_PATH, '../models')\n",
    "\n",
    "# Deriverables directory\n",
    "DELIVERS_DIR = os.path.join(BASE_DIR_PATH, '../deliverables')\n",
    "CHAMPION_DIR_NAME = 'champion'\n",
    "\n",
    "# Champion directory\n",
    "WRK_DIR = os.path.join(DELIVERS_DIR, CHAMPION_DIR_NAME)"
   ]
  },
  {
   "cell_type": "code",
   "execution_count": 4,
   "metadata": {},
   "outputs": [
    {
     "name": "stdout",
     "output_type": "stream",
     "text": [
      "Please provide User Password:\n"
     ]
    },
    {
     "name": "stdin",
     "output_type": "stream",
     "text": [
      " ········\n"
     ]
    }
   ],
   "source": [
    "# Model Registry Connection\n",
    "\n",
    "MODEL_REGISTRY_META = read_yaml('./model_registry_config.yaml')\n",
    "SERVER = MODEL_REGISTRY_META['connection']['server']\n",
    "USER= 'russasdemo'\n",
    "\n",
    "print('Please provide User Password:')\n",
    "\n",
    "PASSWORD = getpass.getpass()\n",
    "\n",
    "PROJECT_NAME = MODEL_REGISTRY_META['modelrepository_meta']['project_name']\n",
    "REPOSITORY = MODEL_REGISTRY_META['modelrepository_meta']['repository']"
   ]
  },
  {
   "cell_type": "markdown",
   "metadata": {},
   "source": [
    "# 1. Model Governance with SAS Model Manager Registry\n",
    "\n",
    "In general, SAS Model Manager handles several files to guarantee model governance in the registry. \n",
    "\n",
    "For example, in case of pickle model, we have\n",
    "\n",
    "- Required\n",
    "\n",
    "    1. requirement.json\n",
    "    2. score.py\n",
    "    3. model.pkl\n",
    "    4. inputVar.json\n",
    "    5. outputVar.json\n",
    "    6. ModelProperties.json\n",
    "    \n",
    "\n",
    "- Optional\n",
    "\n",
    "    7. train.py\n",
    "    8. fileMetadata.json\n",
    "    9. dmcas_fitstat.json\n",
    "    10. dmcas_roc\n",
    "    11. dmcas_lift\n",
    "\n",
    "Because we're going to deploy on RedHat OpenShift, we jusy need some of them for compliance."
   ]
  },
  {
   "cell_type": "markdown",
   "metadata": {},
   "source": [
    "## Create Model Folder with SAS pzmm"
   ]
  },
  {
   "cell_type": "markdown",
   "metadata": {},
   "source": [
    "### Write requirement.txt"
   ]
  },
  {
   "cell_type": "code",
   "execution_count": 5,
   "metadata": {},
   "outputs": [
    {
     "name": "stdout",
     "output_type": "stream",
     "text": [
      "Requirements file created under  /home/jovyan/work/notebooks/../deliverables/champion/requirements.txt\n"
     ]
    }
   ],
   "source": [
    "write_requirements(WRK_DIR, 'requirements.txt')"
   ]
  },
  {
   "cell_type": "markdown",
   "metadata": {},
   "source": [
    "### Write Metadata files"
   ]
  },
  {
   "cell_type": "code",
   "execution_count": 6,
   "metadata": {},
   "outputs": [],
   "source": [
    "data_train = pd.read_csv(TRAIN_DATA_PATH, sep=',')\n",
    "\n",
    "TARGET = 'BAD'\n",
    "PREDICTORS = ['REASON', 'JOB', 'LOAN', 'MORTDUE', 'VALUE', 'YOJ', 'DEROG', 'DELINQ', 'CLAGE', 'NINQ', 'CLNO', 'DEBTINC']"
   ]
  },
  {
   "cell_type": "code",
   "execution_count": 7,
   "metadata": {},
   "outputs": [],
   "source": [
    "JSONFiles = pzmm.JSONFiles()\n",
    "#write input.json\n",
    "JSONFiles.writeVarJSON(data_train[PREDICTORS], isInput=True, jPath=WRK_DIR)"
   ]
  },
  {
   "cell_type": "code",
   "execution_count": 8,
   "metadata": {},
   "outputs": [],
   "source": [
    "NAMES=['P_BAD0', 'P_BAD1', 'EM_CLASSIFICATION', 'EM_EVENTPROBABILITY']\n",
    "LABELS=['0', '1']\n",
    "EVENTPROB=0.5\n",
    "outputVar = get_output_variables(NAMES, LABELS, EVENTPROB)\n",
    "\n",
    "#write output.json\n",
    "JSONFiles.writeVarJSON(outputVar, isInput=False, jPath=WRK_DIR)"
   ]
  },
  {
   "cell_type": "code",
   "execution_count": 9,
   "metadata": {},
   "outputs": [],
   "source": [
    "MODELNAME = 'Tensorflow_BoostedTreesClassifier'\n",
    "#write \n",
    "JSONFiles.writeModelPropertiesJSON(modelName=MODELNAME,\n",
    "                                   modelDesc='A Classifier for Tensorflow Boosted Trees models',\n",
    "                                   targetVariable=TARGET,\n",
    "                                   modelType='Boosted Tree',\n",
    "                                   modelPredictors=PREDICTORS,\n",
    "                                   targetEvent=1,\n",
    "                                   numTargetCategories=1,\n",
    "                                   eventProbVar='EM_EVENTPROBABILITY',\n",
    "                                   jPath=WRK_DIR,\n",
    "                                   modeler='ivnard')"
   ]
  },
  {
   "cell_type": "markdown",
   "metadata": {},
   "source": [
    "### Create zip files"
   ]
  },
  {
   "cell_type": "code",
   "execution_count": 10,
   "metadata": {},
   "outputs": [
    {
     "name": "stdout",
     "output_type": "stream",
     "text": [
      "/home/jovyan/work/notebooks/../deliverables/champion/1603087114\n"
     ]
    }
   ],
   "source": [
    "# Zip TF variables\n",
    "TF_SAVEDMODEL_NAME = [file for file in os.listdir(WRK_DIR) if os.path.isdir(os.path.join(WRK_DIR, file))][0]\n",
    "TF_SAVEDMODEL_PATH = os.path.join(WRK_DIR, TF_SAVEDMODEL_NAME)\n",
    "print(TF_SAVEDMODEL_PATH)"
   ]
  },
  {
   "cell_type": "code",
   "execution_count": 11,
   "metadata": {},
   "outputs": [
    {
     "name": "stdout",
     "output_type": "stream",
     "text": [
      "/home/jovyan/work/deliverables/champion/1603087114.zip\n"
     ]
    }
   ],
   "source": [
    "# Zip TF SavedModel format\n",
    "ZIP_TF_SAVEDMODEL_PATH = zip_folder(TF_SAVEDMODEL_PATH, rmtree=True)\n",
    "print(ZIP_TF_SAVEDMODEL_PATH)"
   ]
  },
  {
   "cell_type": "code",
   "execution_count": 12,
   "metadata": {},
   "outputs": [
    {
     "name": "stdout",
     "output_type": "stream",
     "text": [
      "/home/jovyan/work/deliverables/champion.zip\n"
     ]
    }
   ],
   "source": [
    "# Zip the entire folder\n",
    "ZIP_CHAMPION_FOLDER = zip_folder(WRK_DIR)\n",
    "print(ZIP_CHAMPION_FOLDER)"
   ]
  },
  {
   "cell_type": "markdown",
   "metadata": {},
   "source": [
    "## Register the Model with SAS sasctl"
   ]
  },
  {
   "cell_type": "code",
   "execution_count": 13,
   "metadata": {},
   "outputs": [
    {
     "name": "stderr",
     "output_type": "stream",
     "text": [
      "/opt/conda/lib/python3.8/site-packages/urllib3/connectionpool.py:981: InsecureRequestWarning: Unverified HTTPS request is being made to host '172.28.106.218'. Adding certificate verification is strongly advised. See: https://urllib3.readthedocs.io/en/latest/advanced-usage.html#ssl-warnings\n",
      "  warnings.warn(\n"
     ]
    }
   ],
   "source": [
    "status = run_model_tracking(PROJECT_NAME, MODELNAME)"
   ]
  },
  {
   "cell_type": "code",
   "execution_count": 14,
   "metadata": {},
   "outputs": [
    {
     "name": "stdout",
     "output_type": "stream",
     "text": [
      "sas_modelops_tensorflow_openshift successfully created!\n"
     ]
    }
   ],
   "source": [
    "if status == 0:\n",
    "    print(f'{PROJECT_NAME} successfully created!')"
   ]
  },
  {
   "cell_type": "code",
   "execution_count": null,
   "metadata": {},
   "outputs": [],
   "source": []
  }
 ],
 "metadata": {
  "kernelspec": {
   "display_name": "Python 3",
   "language": "python",
   "name": "python3"
  },
  "language_info": {
   "codemirror_mode": {
    "name": "ipython",
    "version": 3
   },
   "file_extension": ".py",
   "mimetype": "text/x-python",
   "name": "python",
   "nbconvert_exporter": "python",
   "pygments_lexer": "ipython3",
   "version": "3.8.5"
  }
 },
 "nbformat": 4,
 "nbformat_minor": 4
}
